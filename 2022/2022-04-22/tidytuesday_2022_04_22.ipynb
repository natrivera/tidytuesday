{
  "nbformat": 4,
  "nbformat_minor": 0,
  "metadata": {
    "colab": {
      "name": "tidytuesday_2022_04_22",
      "provenance": [],
      "authorship_tag": "ABX9TyOezP6CrHjb/t+KS2slI0Ke",
      "include_colab_link": true
    },
    "kernelspec": {
      "name": "python3",
      "display_name": "Python 3"
    },
    "language_info": {
      "name": "python"
    }
  },
  "cells": [
    {
      "cell_type": "markdown",
      "metadata": {
        "id": "view-in-github",
        "colab_type": "text"
      },
      "source": [
        "<a href=\"https://colab.research.google.com/github/natrivera/tidytuesday/blob/main/2022/2022-04-22/tidytuesday_2022_04_22.ipynb\" target=\"_parent\"><img src=\"https://colab.research.google.com/assets/colab-badge.svg\" alt=\"Open In Colab\"/></a>"
      ]
    },
    {
      "cell_type": "code",
      "execution_count": null,
      "metadata": {
        "colab": {
          "base_uri": "https://localhost:8080/"
        },
        "id": "BzbgE7EZgkt6",
        "outputId": "e39c1a8a-b286-43fe-e0b8-f2df7a488966"
      },
      "outputs": [
        {
          "output_type": "stream",
          "name": "stdout",
          "text": [
            "[nltk_data] Downloading package stopwords to /root/nltk_data...\n",
            "[nltk_data]   Package stopwords is already up-to-date!\n"
          ]
        }
      ],
      "source": [
        "import numpy as np\n",
        "import pandas as pd\n",
        "import plotly.express as px\n",
        "\n",
        "# Load the regular expression library\n",
        "import re\n",
        "\n",
        "# Import the wordcloud library\n",
        "from wordcloud import WordCloud\n",
        "\n",
        "import gensim\n",
        "from gensim.utils import simple_preprocess\n",
        "import nltk\n",
        "\n",
        "\n",
        "nltk.download('stopwords')\n",
        "\n",
        "from nltk.corpus import stopwords\n",
        "\n",
        "import gensim.corpora as corpora\n",
        "\n",
        "from pprint import pprint\n"
      ]
    },
    {
      "cell_type": "code",
      "source": [
        "# load data and show 5 recors\n",
        "hidden_gems = pd.read_csv('https://raw.githubusercontent.com/rfordatascience/tidytuesday/master/data/2022/2022-04-26/hidden_gems.csv')\n",
        "hidden_gems.head()\n"
      ],
      "metadata": {
        "colab": {
          "base_uri": "https://localhost:8080/",
          "height": 634
        },
        "id": "ZIEsrmJpg8Me",
        "outputId": "24fb0815-0d49-44c2-e171-695c86f4e516"
      },
      "execution_count": null,
      "outputs": [
        {
          "output_type": "execute_result",
          "data": {
            "text/plain": [
              "   vol        date                             link_forum  \\\n",
              "0    1  2020-05-12  https://www.kaggle.com/general/150603   \n",
              "1    1  2020-05-12  https://www.kaggle.com/general/150603   \n",
              "2    1  2020-05-12  https://www.kaggle.com/general/150603   \n",
              "3    2  2020-05-19  https://www.kaggle.com/general/152383   \n",
              "4    2  2020-05-19  https://www.kaggle.com/general/152383   \n",
              "\n",
              "                                        link_twitter  \\\n",
              "0  https://twitter.com/heads0rtai1s/status/126028...   \n",
              "1  https://twitter.com/heads0rtai1s/status/126028...   \n",
              "2  https://twitter.com/heads0rtai1s/status/126028...   \n",
              "3  https://twitter.com/heads0rtai1s/status/126279...   \n",
              "4  https://twitter.com/heads0rtai1s/status/126279...   \n",
              "\n",
              "                                            notebook    author_kaggle  \\\n",
              "0  https://www.kaggle.com/hansjoerg/glmnet-xgboos...        hansjoerg   \n",
              "1  https://www.kaggle.com/parulpandey/breathe-ind...      parulpandey   \n",
              "2  https://www.kaggle.com/jonathanbouchet/u-s-com...  jonathanbouchet   \n",
              "3  https://www.kaggle.com/andradaolteanu/unbiased...   andradaolteanu   \n",
              "4  https://www.kaggle.com/tunguz/mnist-2d-t-sne-w...           tunguz   \n",
              "\n",
              "                                         title  \\\n",
              "0    Glmnet, XGBoost, and SVM Using tidymodels   \n",
              "1  Breathe India: COVID-19 effect on Pollution   \n",
              "2          U.S. Commercial Flights Tracker Map   \n",
              "3            Unbiased Look on Brazil Wildfires   \n",
              "4                   MNIST 2D t-SNE with Rapids   \n",
              "\n",
              "                                              review       author_name  \\\n",
              "0  A well-structured and documented tutorial on h...         Hansjoerg   \n",
              "1  A detailed work studying the interaction betwe...      Parul Pandey   \n",
              "2  Stunning maps are accompanied by lots of other...  Jonathan Bouchet   \n",
              "3  A well-focused analysis on a globally importan...   Andrada Olteanu   \n",
              "4  One of the first Notebooks on Kaggle demonstra...      Bojan Tunguz   \n",
              "\n",
              "                        author_twitter  \\\n",
              "0     https://twitter.com/hansjoerg_me   \n",
              "1      https://twitter.com/pandeyparul   \n",
              "2                                  NaN   \n",
              "3  https://twitter.com/andradaolteanuu   \n",
              "4           https://twitter.com/tunguz   \n",
              "\n",
              "                                     author_linkedin notes  \n",
              "0                                                NaN   NaN  \n",
              "1  https://www.linkedin.com/in/parul-pandey-a5498...   NaN  \n",
              "2        https://www.linkedin.com/in/jonathanbouchet   NaN  \n",
              "3  https://www.linkedin.com/in/andrada-olteanu-38...   NaN  \n",
              "4                 https://www.linkedin.com/in/tunguz   NaN  "
            ],
            "text/html": [
              "\n",
              "  <div id=\"df-88cdf023-d3cf-45ed-925d-318d72a21eca\">\n",
              "    <div class=\"colab-df-container\">\n",
              "      <div>\n",
              "<style scoped>\n",
              "    .dataframe tbody tr th:only-of-type {\n",
              "        vertical-align: middle;\n",
              "    }\n",
              "\n",
              "    .dataframe tbody tr th {\n",
              "        vertical-align: top;\n",
              "    }\n",
              "\n",
              "    .dataframe thead th {\n",
              "        text-align: right;\n",
              "    }\n",
              "</style>\n",
              "<table border=\"1\" class=\"dataframe\">\n",
              "  <thead>\n",
              "    <tr style=\"text-align: right;\">\n",
              "      <th></th>\n",
              "      <th>vol</th>\n",
              "      <th>date</th>\n",
              "      <th>link_forum</th>\n",
              "      <th>link_twitter</th>\n",
              "      <th>notebook</th>\n",
              "      <th>author_kaggle</th>\n",
              "      <th>title</th>\n",
              "      <th>review</th>\n",
              "      <th>author_name</th>\n",
              "      <th>author_twitter</th>\n",
              "      <th>author_linkedin</th>\n",
              "      <th>notes</th>\n",
              "    </tr>\n",
              "  </thead>\n",
              "  <tbody>\n",
              "    <tr>\n",
              "      <th>0</th>\n",
              "      <td>1</td>\n",
              "      <td>2020-05-12</td>\n",
              "      <td>https://www.kaggle.com/general/150603</td>\n",
              "      <td>https://twitter.com/heads0rtai1s/status/126028...</td>\n",
              "      <td>https://www.kaggle.com/hansjoerg/glmnet-xgboos...</td>\n",
              "      <td>hansjoerg</td>\n",
              "      <td>Glmnet, XGBoost, and SVM Using tidymodels</td>\n",
              "      <td>A well-structured and documented tutorial on h...</td>\n",
              "      <td>Hansjoerg</td>\n",
              "      <td>https://twitter.com/hansjoerg_me</td>\n",
              "      <td>NaN</td>\n",
              "      <td>NaN</td>\n",
              "    </tr>\n",
              "    <tr>\n",
              "      <th>1</th>\n",
              "      <td>1</td>\n",
              "      <td>2020-05-12</td>\n",
              "      <td>https://www.kaggle.com/general/150603</td>\n",
              "      <td>https://twitter.com/heads0rtai1s/status/126028...</td>\n",
              "      <td>https://www.kaggle.com/parulpandey/breathe-ind...</td>\n",
              "      <td>parulpandey</td>\n",
              "      <td>Breathe India: COVID-19 effect on Pollution</td>\n",
              "      <td>A detailed work studying the interaction betwe...</td>\n",
              "      <td>Parul Pandey</td>\n",
              "      <td>https://twitter.com/pandeyparul</td>\n",
              "      <td>https://www.linkedin.com/in/parul-pandey-a5498...</td>\n",
              "      <td>NaN</td>\n",
              "    </tr>\n",
              "    <tr>\n",
              "      <th>2</th>\n",
              "      <td>1</td>\n",
              "      <td>2020-05-12</td>\n",
              "      <td>https://www.kaggle.com/general/150603</td>\n",
              "      <td>https://twitter.com/heads0rtai1s/status/126028...</td>\n",
              "      <td>https://www.kaggle.com/jonathanbouchet/u-s-com...</td>\n",
              "      <td>jonathanbouchet</td>\n",
              "      <td>U.S. Commercial Flights Tracker Map</td>\n",
              "      <td>Stunning maps are accompanied by lots of other...</td>\n",
              "      <td>Jonathan Bouchet</td>\n",
              "      <td>NaN</td>\n",
              "      <td>https://www.linkedin.com/in/jonathanbouchet</td>\n",
              "      <td>NaN</td>\n",
              "    </tr>\n",
              "    <tr>\n",
              "      <th>3</th>\n",
              "      <td>2</td>\n",
              "      <td>2020-05-19</td>\n",
              "      <td>https://www.kaggle.com/general/152383</td>\n",
              "      <td>https://twitter.com/heads0rtai1s/status/126279...</td>\n",
              "      <td>https://www.kaggle.com/andradaolteanu/unbiased...</td>\n",
              "      <td>andradaolteanu</td>\n",
              "      <td>Unbiased Look on Brazil Wildfires</td>\n",
              "      <td>A well-focused analysis on a globally importan...</td>\n",
              "      <td>Andrada Olteanu</td>\n",
              "      <td>https://twitter.com/andradaolteanuu</td>\n",
              "      <td>https://www.linkedin.com/in/andrada-olteanu-38...</td>\n",
              "      <td>NaN</td>\n",
              "    </tr>\n",
              "    <tr>\n",
              "      <th>4</th>\n",
              "      <td>2</td>\n",
              "      <td>2020-05-19</td>\n",
              "      <td>https://www.kaggle.com/general/152383</td>\n",
              "      <td>https://twitter.com/heads0rtai1s/status/126279...</td>\n",
              "      <td>https://www.kaggle.com/tunguz/mnist-2d-t-sne-w...</td>\n",
              "      <td>tunguz</td>\n",
              "      <td>MNIST 2D t-SNE with Rapids</td>\n",
              "      <td>One of the first Notebooks on Kaggle demonstra...</td>\n",
              "      <td>Bojan Tunguz</td>\n",
              "      <td>https://twitter.com/tunguz</td>\n",
              "      <td>https://www.linkedin.com/in/tunguz</td>\n",
              "      <td>NaN</td>\n",
              "    </tr>\n",
              "  </tbody>\n",
              "</table>\n",
              "</div>\n",
              "      <button class=\"colab-df-convert\" onclick=\"convertToInteractive('df-88cdf023-d3cf-45ed-925d-318d72a21eca')\"\n",
              "              title=\"Convert this dataframe to an interactive table.\"\n",
              "              style=\"display:none;\">\n",
              "        \n",
              "  <svg xmlns=\"http://www.w3.org/2000/svg\" height=\"24px\"viewBox=\"0 0 24 24\"\n",
              "       width=\"24px\">\n",
              "    <path d=\"M0 0h24v24H0V0z\" fill=\"none\"/>\n",
              "    <path d=\"M18.56 5.44l.94 2.06.94-2.06 2.06-.94-2.06-.94-.94-2.06-.94 2.06-2.06.94zm-11 1L8.5 8.5l.94-2.06 2.06-.94-2.06-.94L8.5 2.5l-.94 2.06-2.06.94zm10 10l.94 2.06.94-2.06 2.06-.94-2.06-.94-.94-2.06-.94 2.06-2.06.94z\"/><path d=\"M17.41 7.96l-1.37-1.37c-.4-.4-.92-.59-1.43-.59-.52 0-1.04.2-1.43.59L10.3 9.45l-7.72 7.72c-.78.78-.78 2.05 0 2.83L4 21.41c.39.39.9.59 1.41.59.51 0 1.02-.2 1.41-.59l7.78-7.78 2.81-2.81c.8-.78.8-2.07 0-2.86zM5.41 20L4 18.59l7.72-7.72 1.47 1.35L5.41 20z\"/>\n",
              "  </svg>\n",
              "      </button>\n",
              "      \n",
              "  <style>\n",
              "    .colab-df-container {\n",
              "      display:flex;\n",
              "      flex-wrap:wrap;\n",
              "      gap: 12px;\n",
              "    }\n",
              "\n",
              "    .colab-df-convert {\n",
              "      background-color: #E8F0FE;\n",
              "      border: none;\n",
              "      border-radius: 50%;\n",
              "      cursor: pointer;\n",
              "      display: none;\n",
              "      fill: #1967D2;\n",
              "      height: 32px;\n",
              "      padding: 0 0 0 0;\n",
              "      width: 32px;\n",
              "    }\n",
              "\n",
              "    .colab-df-convert:hover {\n",
              "      background-color: #E2EBFA;\n",
              "      box-shadow: 0px 1px 2px rgba(60, 64, 67, 0.3), 0px 1px 3px 1px rgba(60, 64, 67, 0.15);\n",
              "      fill: #174EA6;\n",
              "    }\n",
              "\n",
              "    [theme=dark] .colab-df-convert {\n",
              "      background-color: #3B4455;\n",
              "      fill: #D2E3FC;\n",
              "    }\n",
              "\n",
              "    [theme=dark] .colab-df-convert:hover {\n",
              "      background-color: #434B5C;\n",
              "      box-shadow: 0px 1px 3px 1px rgba(0, 0, 0, 0.15);\n",
              "      filter: drop-shadow(0px 1px 2px rgba(0, 0, 0, 0.3));\n",
              "      fill: #FFFFFF;\n",
              "    }\n",
              "  </style>\n",
              "\n",
              "      <script>\n",
              "        const buttonEl =\n",
              "          document.querySelector('#df-88cdf023-d3cf-45ed-925d-318d72a21eca button.colab-df-convert');\n",
              "        buttonEl.style.display =\n",
              "          google.colab.kernel.accessAllowed ? 'block' : 'none';\n",
              "\n",
              "        async function convertToInteractive(key) {\n",
              "          const element = document.querySelector('#df-88cdf023-d3cf-45ed-925d-318d72a21eca');\n",
              "          const dataTable =\n",
              "            await google.colab.kernel.invokeFunction('convertToInteractive',\n",
              "                                                     [key], {});\n",
              "          if (!dataTable) return;\n",
              "\n",
              "          const docLinkHtml = 'Like what you see? Visit the ' +\n",
              "            '<a target=\"_blank\" href=https://colab.research.google.com/notebooks/data_table.ipynb>data table notebook</a>'\n",
              "            + ' to learn more about interactive tables.';\n",
              "          element.innerHTML = '';\n",
              "          dataTable['output_type'] = 'display_data';\n",
              "          await google.colab.output.renderOutput(dataTable, element);\n",
              "          const docLink = document.createElement('div');\n",
              "          docLink.innerHTML = docLinkHtml;\n",
              "          element.appendChild(docLink);\n",
              "        }\n",
              "      </script>\n",
              "    </div>\n",
              "  </div>\n",
              "  "
            ]
          },
          "metadata": {},
          "execution_count": 18
        }
      ]
    },
    {
      "cell_type": "code",
      "source": [
        "# show distribution of notebooks by volume\n",
        "hidden_vol = hidden_gems.groupby('vol').agg(counts=('date','count')).reset_index()\n",
        "fig = px.line(hidden_vol, x=\"vol\", y=\"counts\")\n",
        "fig.show()"
      ],
      "metadata": {
        "colab": {
          "base_uri": "https://localhost:8080/",
          "height": 542
        },
        "id": "0VOXh8i-hZtB",
        "outputId": "c434287b-a055-4789-bc62-965321da9ec8"
      },
      "execution_count": null,
      "outputs": [
        {
          "output_type": "display_data",
          "data": {
            "text/html": [
              "<html>\n",
              "<head><meta charset=\"utf-8\" /></head>\n",
              "<body>\n",
              "    <div>            <script src=\"https://cdnjs.cloudflare.com/ajax/libs/mathjax/2.7.5/MathJax.js?config=TeX-AMS-MML_SVG\"></script><script type=\"text/javascript\">if (window.MathJax) {MathJax.Hub.Config({SVG: {font: \"STIX-Web\"}});}</script>                <script type=\"text/javascript\">window.PlotlyConfig = {MathJaxConfig: 'local'};</script>\n",
              "        <script src=\"https://cdn.plot.ly/plotly-2.8.3.min.js\"></script>                <div id=\"c9103f97-470e-49b7-9f7a-33c2054c599d\" class=\"plotly-graph-div\" style=\"height:525px; width:100%;\"></div>            <script type=\"text/javascript\">                                    window.PLOTLYENV=window.PLOTLYENV || {};                                    if (document.getElementById(\"c9103f97-470e-49b7-9f7a-33c2054c599d\")) {                    Plotly.newPlot(                        \"c9103f97-470e-49b7-9f7a-33c2054c599d\",                        [{\"hovertemplate\":\"vol=%{x}<br>counts=%{y}<extra></extra>\",\"legendgroup\":\"\",\"line\":{\"color\":\"#636efa\",\"dash\":\"solid\"},\"marker\":{\"symbol\":\"circle\"},\"mode\":\"lines\",\"name\":\"\",\"orientation\":\"v\",\"showlegend\":false,\"x\":[1,2,3,4,5,6,7,8,9,10,11,12,13,14,15,16,17,18,19,20,21,22,23,24,25,26,27,28,29,30,31,32,33,34,35,36,37,38,39,40,41,42,43,44,45,46,47,48,49,50,51,52,53,54,55,56,57,58,59,60,61,62,63,64,65,66,67,68,69,70,71,72,73,74,75,76,77,78,79,80,81,82,83,84,85,86,87,88,89,90,91,92,93,94,95,96,97,98,99,100],\"xaxis\":\"x\",\"y\":[3,3,3,3,3,3,3,3,3,3,3,3,3,3,3,3,3,3,3,3,3,3,3,3,3,3,3,3,3,3,3,3,3,3,3,3,3,3,3,3,3,3,3,3,3,3,3,3,3,3,3,3,3,3,3,3,3,3,3,3,3,3,3,3,3,3,3,3,3,3,3,3,3,3,3,3,3,3,3,3,3,3,3,3,3,3,3,3,3,3,3,3,3,3,3,3,3,3,3,3],\"yaxis\":\"y\",\"type\":\"scatter\"}],                        {\"template\":{\"data\":{\"bar\":[{\"error_x\":{\"color\":\"#2a3f5f\"},\"error_y\":{\"color\":\"#2a3f5f\"},\"marker\":{\"line\":{\"color\":\"#E5ECF6\",\"width\":0.5},\"pattern\":{\"fillmode\":\"overlay\",\"size\":10,\"solidity\":0.2}},\"type\":\"bar\"}],\"barpolar\":[{\"marker\":{\"line\":{\"color\":\"#E5ECF6\",\"width\":0.5},\"pattern\":{\"fillmode\":\"overlay\",\"size\":10,\"solidity\":0.2}},\"type\":\"barpolar\"}],\"carpet\":[{\"aaxis\":{\"endlinecolor\":\"#2a3f5f\",\"gridcolor\":\"white\",\"linecolor\":\"white\",\"minorgridcolor\":\"white\",\"startlinecolor\":\"#2a3f5f\"},\"baxis\":{\"endlinecolor\":\"#2a3f5f\",\"gridcolor\":\"white\",\"linecolor\":\"white\",\"minorgridcolor\":\"white\",\"startlinecolor\":\"#2a3f5f\"},\"type\":\"carpet\"}],\"choropleth\":[{\"colorbar\":{\"outlinewidth\":0,\"ticks\":\"\"},\"type\":\"choropleth\"}],\"contour\":[{\"colorbar\":{\"outlinewidth\":0,\"ticks\":\"\"},\"colorscale\":[[0.0,\"#0d0887\"],[0.1111111111111111,\"#46039f\"],[0.2222222222222222,\"#7201a8\"],[0.3333333333333333,\"#9c179e\"],[0.4444444444444444,\"#bd3786\"],[0.5555555555555556,\"#d8576b\"],[0.6666666666666666,\"#ed7953\"],[0.7777777777777778,\"#fb9f3a\"],[0.8888888888888888,\"#fdca26\"],[1.0,\"#f0f921\"]],\"type\":\"contour\"}],\"contourcarpet\":[{\"colorbar\":{\"outlinewidth\":0,\"ticks\":\"\"},\"type\":\"contourcarpet\"}],\"heatmap\":[{\"colorbar\":{\"outlinewidth\":0,\"ticks\":\"\"},\"colorscale\":[[0.0,\"#0d0887\"],[0.1111111111111111,\"#46039f\"],[0.2222222222222222,\"#7201a8\"],[0.3333333333333333,\"#9c179e\"],[0.4444444444444444,\"#bd3786\"],[0.5555555555555556,\"#d8576b\"],[0.6666666666666666,\"#ed7953\"],[0.7777777777777778,\"#fb9f3a\"],[0.8888888888888888,\"#fdca26\"],[1.0,\"#f0f921\"]],\"type\":\"heatmap\"}],\"heatmapgl\":[{\"colorbar\":{\"outlinewidth\":0,\"ticks\":\"\"},\"colorscale\":[[0.0,\"#0d0887\"],[0.1111111111111111,\"#46039f\"],[0.2222222222222222,\"#7201a8\"],[0.3333333333333333,\"#9c179e\"],[0.4444444444444444,\"#bd3786\"],[0.5555555555555556,\"#d8576b\"],[0.6666666666666666,\"#ed7953\"],[0.7777777777777778,\"#fb9f3a\"],[0.8888888888888888,\"#fdca26\"],[1.0,\"#f0f921\"]],\"type\":\"heatmapgl\"}],\"histogram\":[{\"marker\":{\"pattern\":{\"fillmode\":\"overlay\",\"size\":10,\"solidity\":0.2}},\"type\":\"histogram\"}],\"histogram2d\":[{\"colorbar\":{\"outlinewidth\":0,\"ticks\":\"\"},\"colorscale\":[[0.0,\"#0d0887\"],[0.1111111111111111,\"#46039f\"],[0.2222222222222222,\"#7201a8\"],[0.3333333333333333,\"#9c179e\"],[0.4444444444444444,\"#bd3786\"],[0.5555555555555556,\"#d8576b\"],[0.6666666666666666,\"#ed7953\"],[0.7777777777777778,\"#fb9f3a\"],[0.8888888888888888,\"#fdca26\"],[1.0,\"#f0f921\"]],\"type\":\"histogram2d\"}],\"histogram2dcontour\":[{\"colorbar\":{\"outlinewidth\":0,\"ticks\":\"\"},\"colorscale\":[[0.0,\"#0d0887\"],[0.1111111111111111,\"#46039f\"],[0.2222222222222222,\"#7201a8\"],[0.3333333333333333,\"#9c179e\"],[0.4444444444444444,\"#bd3786\"],[0.5555555555555556,\"#d8576b\"],[0.6666666666666666,\"#ed7953\"],[0.7777777777777778,\"#fb9f3a\"],[0.8888888888888888,\"#fdca26\"],[1.0,\"#f0f921\"]],\"type\":\"histogram2dcontour\"}],\"mesh3d\":[{\"colorbar\":{\"outlinewidth\":0,\"ticks\":\"\"},\"type\":\"mesh3d\"}],\"parcoords\":[{\"line\":{\"colorbar\":{\"outlinewidth\":0,\"ticks\":\"\"}},\"type\":\"parcoords\"}],\"pie\":[{\"automargin\":true,\"type\":\"pie\"}],\"scatter\":[{\"marker\":{\"colorbar\":{\"outlinewidth\":0,\"ticks\":\"\"}},\"type\":\"scatter\"}],\"scatter3d\":[{\"line\":{\"colorbar\":{\"outlinewidth\":0,\"ticks\":\"\"}},\"marker\":{\"colorbar\":{\"outlinewidth\":0,\"ticks\":\"\"}},\"type\":\"scatter3d\"}],\"scattercarpet\":[{\"marker\":{\"colorbar\":{\"outlinewidth\":0,\"ticks\":\"\"}},\"type\":\"scattercarpet\"}],\"scattergeo\":[{\"marker\":{\"colorbar\":{\"outlinewidth\":0,\"ticks\":\"\"}},\"type\":\"scattergeo\"}],\"scattergl\":[{\"marker\":{\"colorbar\":{\"outlinewidth\":0,\"ticks\":\"\"}},\"type\":\"scattergl\"}],\"scattermapbox\":[{\"marker\":{\"colorbar\":{\"outlinewidth\":0,\"ticks\":\"\"}},\"type\":\"scattermapbox\"}],\"scatterpolar\":[{\"marker\":{\"colorbar\":{\"outlinewidth\":0,\"ticks\":\"\"}},\"type\":\"scatterpolar\"}],\"scatterpolargl\":[{\"marker\":{\"colorbar\":{\"outlinewidth\":0,\"ticks\":\"\"}},\"type\":\"scatterpolargl\"}],\"scatterternary\":[{\"marker\":{\"colorbar\":{\"outlinewidth\":0,\"ticks\":\"\"}},\"type\":\"scatterternary\"}],\"surface\":[{\"colorbar\":{\"outlinewidth\":0,\"ticks\":\"\"},\"colorscale\":[[0.0,\"#0d0887\"],[0.1111111111111111,\"#46039f\"],[0.2222222222222222,\"#7201a8\"],[0.3333333333333333,\"#9c179e\"],[0.4444444444444444,\"#bd3786\"],[0.5555555555555556,\"#d8576b\"],[0.6666666666666666,\"#ed7953\"],[0.7777777777777778,\"#fb9f3a\"],[0.8888888888888888,\"#fdca26\"],[1.0,\"#f0f921\"]],\"type\":\"surface\"}],\"table\":[{\"cells\":{\"fill\":{\"color\":\"#EBF0F8\"},\"line\":{\"color\":\"white\"}},\"header\":{\"fill\":{\"color\":\"#C8D4E3\"},\"line\":{\"color\":\"white\"}},\"type\":\"table\"}]},\"layout\":{\"annotationdefaults\":{\"arrowcolor\":\"#2a3f5f\",\"arrowhead\":0,\"arrowwidth\":1},\"autotypenumbers\":\"strict\",\"coloraxis\":{\"colorbar\":{\"outlinewidth\":0,\"ticks\":\"\"}},\"colorscale\":{\"diverging\":[[0,\"#8e0152\"],[0.1,\"#c51b7d\"],[0.2,\"#de77ae\"],[0.3,\"#f1b6da\"],[0.4,\"#fde0ef\"],[0.5,\"#f7f7f7\"],[0.6,\"#e6f5d0\"],[0.7,\"#b8e186\"],[0.8,\"#7fbc41\"],[0.9,\"#4d9221\"],[1,\"#276419\"]],\"sequential\":[[0.0,\"#0d0887\"],[0.1111111111111111,\"#46039f\"],[0.2222222222222222,\"#7201a8\"],[0.3333333333333333,\"#9c179e\"],[0.4444444444444444,\"#bd3786\"],[0.5555555555555556,\"#d8576b\"],[0.6666666666666666,\"#ed7953\"],[0.7777777777777778,\"#fb9f3a\"],[0.8888888888888888,\"#fdca26\"],[1.0,\"#f0f921\"]],\"sequentialminus\":[[0.0,\"#0d0887\"],[0.1111111111111111,\"#46039f\"],[0.2222222222222222,\"#7201a8\"],[0.3333333333333333,\"#9c179e\"],[0.4444444444444444,\"#bd3786\"],[0.5555555555555556,\"#d8576b\"],[0.6666666666666666,\"#ed7953\"],[0.7777777777777778,\"#fb9f3a\"],[0.8888888888888888,\"#fdca26\"],[1.0,\"#f0f921\"]]},\"colorway\":[\"#636efa\",\"#EF553B\",\"#00cc96\",\"#ab63fa\",\"#FFA15A\",\"#19d3f3\",\"#FF6692\",\"#B6E880\",\"#FF97FF\",\"#FECB52\"],\"font\":{\"color\":\"#2a3f5f\"},\"geo\":{\"bgcolor\":\"white\",\"lakecolor\":\"white\",\"landcolor\":\"#E5ECF6\",\"showlakes\":true,\"showland\":true,\"subunitcolor\":\"white\"},\"hoverlabel\":{\"align\":\"left\"},\"hovermode\":\"closest\",\"mapbox\":{\"style\":\"light\"},\"paper_bgcolor\":\"white\",\"plot_bgcolor\":\"#E5ECF6\",\"polar\":{\"angularaxis\":{\"gridcolor\":\"white\",\"linecolor\":\"white\",\"ticks\":\"\"},\"bgcolor\":\"#E5ECF6\",\"radialaxis\":{\"gridcolor\":\"white\",\"linecolor\":\"white\",\"ticks\":\"\"}},\"scene\":{\"xaxis\":{\"backgroundcolor\":\"#E5ECF6\",\"gridcolor\":\"white\",\"gridwidth\":2,\"linecolor\":\"white\",\"showbackground\":true,\"ticks\":\"\",\"zerolinecolor\":\"white\"},\"yaxis\":{\"backgroundcolor\":\"#E5ECF6\",\"gridcolor\":\"white\",\"gridwidth\":2,\"linecolor\":\"white\",\"showbackground\":true,\"ticks\":\"\",\"zerolinecolor\":\"white\"},\"zaxis\":{\"backgroundcolor\":\"#E5ECF6\",\"gridcolor\":\"white\",\"gridwidth\":2,\"linecolor\":\"white\",\"showbackground\":true,\"ticks\":\"\",\"zerolinecolor\":\"white\"}},\"shapedefaults\":{\"line\":{\"color\":\"#2a3f5f\"}},\"ternary\":{\"aaxis\":{\"gridcolor\":\"white\",\"linecolor\":\"white\",\"ticks\":\"\"},\"baxis\":{\"gridcolor\":\"white\",\"linecolor\":\"white\",\"ticks\":\"\"},\"bgcolor\":\"#E5ECF6\",\"caxis\":{\"gridcolor\":\"white\",\"linecolor\":\"white\",\"ticks\":\"\"}},\"title\":{\"x\":0.05},\"xaxis\":{\"automargin\":true,\"gridcolor\":\"white\",\"linecolor\":\"white\",\"ticks\":\"\",\"title\":{\"standoff\":15},\"zerolinecolor\":\"white\",\"zerolinewidth\":2},\"yaxis\":{\"automargin\":true,\"gridcolor\":\"white\",\"linecolor\":\"white\",\"ticks\":\"\",\"title\":{\"standoff\":15},\"zerolinecolor\":\"white\",\"zerolinewidth\":2}}},\"xaxis\":{\"anchor\":\"y\",\"domain\":[0.0,1.0],\"title\":{\"text\":\"vol\"}},\"yaxis\":{\"anchor\":\"x\",\"domain\":[0.0,1.0],\"title\":{\"text\":\"counts\"}},\"legend\":{\"tracegroupgap\":0},\"margin\":{\"t\":60}},                        {\"responsive\": true}                    ).then(function(){\n",
              "                            \n",
              "var gd = document.getElementById('c9103f97-470e-49b7-9f7a-33c2054c599d');\n",
              "var x = new MutationObserver(function (mutations, observer) {{\n",
              "        var display = window.getComputedStyle(gd).display;\n",
              "        if (!display || display === 'none') {{\n",
              "            console.log([gd, 'removed!']);\n",
              "            Plotly.purge(gd);\n",
              "            observer.disconnect();\n",
              "        }}\n",
              "}});\n",
              "\n",
              "// Listen for the removal of the full notebook cells\n",
              "var notebookContainer = gd.closest('#notebook-container');\n",
              "if (notebookContainer) {{\n",
              "    x.observe(notebookContainer, {childList: true});\n",
              "}}\n",
              "\n",
              "// Listen for the clearing of the current output cell\n",
              "var outputEl = gd.closest('.output');\n",
              "if (outputEl) {{\n",
              "    x.observe(outputEl, {childList: true});\n",
              "}}\n",
              "\n",
              "                        })                };                            </script>        </div>\n",
              "</body>\n",
              "</html>"
            ]
          },
          "metadata": {}
        }
      ]
    },
    {
      "cell_type": "code",
      "source": [
        "hidden_gems['note_text'] = hidden_gems['title'] + '   ' + hidden_gems['review']\n",
        "hidden_gems['note_text'].head(20)"
      ],
      "metadata": {
        "colab": {
          "base_uri": "https://localhost:8080/"
        },
        "id": "Tc7Zw9vDjhgl",
        "outputId": "fb9f68b8-a17e-4d2f-de90-9949b0b14afc"
      },
      "execution_count": null,
      "outputs": [
        {
          "output_type": "execute_result",
          "data": {
            "text/plain": [
              "0     Glmnet, XGBoost, and SVM Using tidymodels   A ...\n",
              "1     Breathe India: COVID-19 effect on Pollution   ...\n",
              "2     U.S. Commercial Flights Tracker Map   Stunning...\n",
              "3     Unbiased Look on Brazil Wildfires   A well-foc...\n",
              "4     MNIST 2D t-SNE with Rapids   One of the first ...\n",
              "5     How good does your chocolate taste?   A flavou...\n",
              "6     The 12 Different Types of Kagglers   A creativ...\n",
              "7     Shifterator analysis on Animal Crossing review...\n",
              "8     NYC Schools Race, Attendance Economy   A contr...\n",
              "9     A deep learning of Deep Learning   A deep meta...\n",
              "10    German Credit Analysis || A Risk Perspective  ...\n",
              "11    Kiva Loans EDA part 1 | Interactive Visualizat...\n",
              "12    Police Policy and the Use of Deadly Force   Th...\n",
              "13    Zoomable Circle Packing via D3.js in IPython  ...\n",
              "14    How good is Luka Doncic?   In the style of a d...\n",
              "15    Chocolate Bar Ratings: Extensive EDA   A nuanc...\n",
              "16    How big is French Industry? [Data Visualizatio...\n",
              "17    Food Feed Facts   First-rate findings, featuri...\n",
              "18    Kiva in 2 minutes Animated Story   This well-c...\n",
              "19    A look back at your Kaggle journey!   With Kag...\n",
              "Name: note_text, dtype: object"
            ]
          },
          "metadata": {},
          "execution_count": 27
        }
      ]
    },
    {
      "cell_type": "markdown",
      "source": [
        "Credit to blog post used to create topic models. \n",
        "https://towardsdatascience.com/end-to-end-topic-modeling-in-python-latent-dirichlet-allocation-lda-35ce4ed6b3e0\n",
        "\n"
      ],
      "metadata": {
        "id": "FeacIIqnsNDx"
      }
    },
    {
      "cell_type": "code",
      "source": [
        "\n",
        "# Remove punctuation\n",
        "hidden_gems['note_text'] = hidden_gems['note_text'].map(lambda x: re.sub('[,\\.!?]', '', x))\n",
        "\n",
        "# Convert the titles to lowercase\n",
        "hidden_gems['note_text'] = hidden_gems['note_text'].map(lambda x: x.lower())\n",
        "\n",
        "# Print out the first rows of papers\n",
        "hidden_gems['note_text'].head()"
      ],
      "metadata": {
        "colab": {
          "base_uri": "https://localhost:8080/"
        },
        "id": "kH2okLWAk_Nw",
        "outputId": "e71927f4-656f-4531-d814-8e96161c68a2"
      },
      "execution_count": null,
      "outputs": [
        {
          "output_type": "execute_result",
          "data": {
            "text/plain": [
              "0    glmnet xgboost and svm using tidymodels   a we...\n",
              "1    breathe india: covid-19 effect on pollution   ...\n",
              "2    us commercial flights tracker map   stunning m...\n",
              "3    unbiased look on brazil wildfires   a well-foc...\n",
              "4    mnist 2d t-sne with rapids   one of the first ...\n",
              "Name: note_text, dtype: object"
            ]
          },
          "metadata": {},
          "execution_count": 28
        }
      ]
    },
    {
      "cell_type": "code",
      "source": [
        "\n",
        "# Join the different processed titles together.\n",
        "long_string = ','.join(list(hidden_gems['note_text'].values))\n",
        "\n",
        "# Create a WordCloud object\n",
        "wordcloud = WordCloud(background_color=\"white\", max_words=5000, contour_width=3, contour_color='steelblue')\n",
        "\n",
        "# Generate a word cloud\n",
        "wordcloud.generate(long_string)\n",
        "\n",
        "# Visualize the word cloud\n",
        "wordcloud.to_image()"
      ],
      "metadata": {
        "colab": {
          "base_uri": "https://localhost:8080/",
          "height": 217
        },
        "id": "Yn-1H2Z3k_fO",
        "outputId": "0e258a3a-eee8-4144-9865-3777341973ac"
      },
      "execution_count": null,
      "outputs": [
        {
          "output_type": "execute_result",
          "data": {
            "text/plain": [
              "<PIL.Image.Image image mode=RGB size=400x200 at 0x7F70DB980150>"
            ],
            "image/png": "[encoded data removed]"
          },
          "metadata": {},
          "execution_count": 30
        }
      ]
    },
    {
      "cell_type": "code",
      "source": [
        "\n",
        "stop_words = stopwords.words('english')\n",
        "stop_words.extend(['from', 'subject', 're', 'edu', 'use', 'wwwkagglecom' , 'kaggle' , 'https'])\n",
        "\n",
        "def sent_to_words(sentences):\n",
        "    for sentence in sentences:\n",
        "        # deacc=True removes punctuations\n",
        "        yield(gensim.utils.simple_preprocess(str(sentence), deacc=True))\n",
        "\n",
        "\n",
        "def remove_stopwords(texts):\n",
        "    return [[word for word in simple_preprocess(str(doc)) \n",
        "             if word not in stop_words] for doc in texts]\n",
        "\n",
        "\n",
        "data = hidden_gems.note_text.values.tolist()\n",
        "data_words = list(sent_to_words(data))\n",
        "\n",
        "\n",
        "# remove stop words\n",
        "data_words = remove_stopwords(data_words)\n",
        "print(data_words[:1][0][:30])"
      ],
      "metadata": {
        "colab": {
          "base_uri": "https://localhost:8080/"
        },
        "id": "46Eis9Zlk_3b",
        "outputId": "c6e17013-55d4-4125-ef04-3f8e5833ced7"
      },
      "execution_count": null,
      "outputs": [
        {
          "output_type": "stream",
          "name": "stdout",
          "text": [
            "['glmnet', 'xgboost', 'svm', 'using', 'tidymodels', 'well', 'structured', 'documented', 'tutorial', 'new', 'tidymodels', 'framework', 'house', 'prizes', 'regression', 'problem']\n"
          ]
        }
      ]
    },
    {
      "cell_type": "code",
      "source": [
        "\n",
        "# Create Dictionary\n",
        "id2word = corpora.Dictionary(data_words)\n",
        "\n",
        "# Create Corpus\n",
        "texts = data_words\n",
        "\n",
        "# Term Document Frequency\n",
        "corpus = [id2word.doc2bow(text) for text in texts]\n",
        "\n",
        "# View\n",
        "print(corpus[:1][0][:30])"
      ],
      "metadata": {
        "colab": {
          "base_uri": "https://localhost:8080/"
        },
        "id": "pv7QI6QBlAcI",
        "outputId": "409d1f51-3f19-46a1-87e0-6e3bb68525ab"
      },
      "execution_count": null,
      "outputs": [
        {
          "output_type": "stream",
          "name": "stdout",
          "text": [
            "[(0, 1), (1, 1), (2, 1), (3, 1), (4, 1), (5, 1), (6, 1), (7, 1), (8, 1), (9, 1), (10, 2), (11, 1), (12, 1), (13, 1), (14, 1)]\n"
          ]
        }
      ]
    },
    {
      "cell_type": "code",
      "source": [
        "\n",
        "# number of topics\n",
        "num_topics = 5\n",
        "\n",
        "# Build LDA model\n",
        "lda_model = gensim.models.LdaMulticore(corpus=corpus,\n",
        "                                       id2word=id2word,\n",
        "                                       num_topics=num_topics)\n",
        "\n",
        "# Print the Keyword in the 5 topics\n",
        "pprint(lda_model.print_topics())\n",
        "doc_lda = lda_model[corpus]"
      ],
      "metadata": {
        "colab": {
          "base_uri": "https://localhost:8080/"
        },
        "id": "TljL7NP9rmwM",
        "outputId": "8f827db2-b037-490f-d005-46af04a698ed"
      },
      "execution_count": null,
      "outputs": [
        {
          "output_type": "stream",
          "name": "stdout",
          "text": [
            "[(0,\n",
            "  '0.015*\"data\" + 0.013*\"analysis\" + 0.012*\"visuals\" + 0.011*\"well\" + '\n",
            "  '0.010*\"features\" + 0.010*\"work\" + 0.010*\"detailed\" + 0.009*\"great\" + '\n",
            "  '0.007*\"survey\" + 0.007*\"extensive\"'),\n",
            " (1,\n",
            "  '0.018*\"well\" + 0.015*\"analysis\" + 0.014*\"notebook\" + 0.010*\"survey\" + '\n",
            "  '0.010*\"detailed\" + 0.009*\"data\" + 0.009*\"note\" + 0.008*\"visuals\" + '\n",
            "  '0.007*\"great\" + 0.007*\"work\"'),\n",
            " (2,\n",
            "  '0.015*\"data\" + 0.012*\"notebook\" + 0.011*\"survey\" + 0.009*\"visuals\" + '\n",
            "  '0.008*\"narration\" + 0.008*\"great\" + 0.007*\"analysis\" + 0.006*\"well\" + '\n",
            "  '0.006*\"work\" + 0.006*\"step\"'),\n",
            " (3,\n",
            "  '0.013*\"well\" + 0.012*\"work\" + 0.010*\"data\" + 0.008*\"visuals\" + '\n",
            "  '0.006*\"detailed\" + 0.006*\"analysis\" + 0.006*\"notebook\" + 0.006*\"maps\" + '\n",
            "  '0.006*\"structured\" + 0.005*\"exploration\"'),\n",
            " (4,\n",
            "  '0.026*\"data\" + 0.014*\"visuals\" + 0.012*\"well\" + 0.012*\"analysis\" + '\n",
            "  '0.011*\"notebook\" + 0.011*\"survey\" + 0.009*\"detailed\" + 0.009*\"note\" + '\n",
            "  '0.008*\"work\" + 0.007*\"exploration\"')]\n"
          ]
        }
      ]
    },
    {
      "cell_type": "code",
      "source": [
        ""
      ],
      "metadata": {
        "id": "DbyNZ6jZrwfe"
      },
      "execution_count": null,
      "outputs": []
    }
  ]
}